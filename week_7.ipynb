{
 "cells": [
  {
   "cell_type": "markdown",
   "id": "fifth-burst",
   "metadata": {},
   "source": [
    "# Question 1:\n",
    "Write a program that detects the ID number hidden in a text. We know that the format of the ID number is 2 letters, 1 digit, 2 letters, 2 digits, 1 letter, 1 digit (For example: AA4ZA11B1).\n",
    "\n",
    "Input : AABZA1111AEGTV5YH678MK4FM53B6\n",
    "\n",
    "Output : MK4FM53B6\n",
    "\n",
    "Input : AEGTV5VZ4PF94B6YH678\n",
    "\n",
    "Output : VZ4PF94B6"
   ]
  },
  {
   "cell_type": "code",
   "execution_count": 17,
   "id": "limited-position",
   "metadata": {},
   "outputs": [
    {
     "name": "stdout",
     "output_type": "stream",
     "text": [
      "MK4FM53B6\n",
      "VZ4PF94B6\n"
     ]
    }
   ],
   "source": [
    "import re\n",
    "\n",
    "def get_id(text):\n",
    "    pattern= '[a-zA-Z]{2}\\d[a-zA-Z]{2}\\d\\d[a-zA-Z]{1}\\d'\n",
    "    return re.search(pattern, text).group()\n",
    "\n",
    "\n",
    "text_1= 'AABZA1111AEGTV5YH678MK4FM53B6'\n",
    "text_2 = 'AEGTV5VZ4PF94B6YH678'\n",
    "\n",
    "print(get_id(text_1))\n",
    "print(get_id(text_2))"
   ]
  },
  {
   "cell_type": "markdown",
   "id": "rough-aircraft",
   "metadata": {},
   "source": [
    "# Question 2:\n",
    "Find words that are 8 letter long on this text ;\n",
    "\n",
    "Without, the night was cold and wet, but in the small parlour of Laburnum villa the blinds were drawn and the fire burned brightly. Father and son were at chess; the former, who possessed ideas about the game involving radical chances, putting his king into such sharp and unnecessary perils that it even provoked comment from the white-haired old lady knitting placidly by the fire. \"Hark at the wind,\" said Mr. White, \"who, having seen a fatal mistake after it was too late, was amiably desirous of preventing his son from seeing it. I'm listening,\" said the latter grimly surveying the board as he stretched out his hand. \"Check.\" I should hardly think that he's come tonight,\" said his father, with his hand poised over the board. \"Mate,\" replied the son. \"That's the worst of living so far out,\" balled Mr. White with sudden and unlooked-for violence; \"Of all the beastly, slushy, out of the way places to live in, this is the worst. Path's a bog, and the road's a torrent. I don't know what people are thinking about. I suppose because only two houses in the road are let, they think it doesn't matter.\""
   ]
  },
  {
   "cell_type": "code",
   "execution_count": 18,
   "id": "special-franklin",
   "metadata": {},
   "outputs": [
    {
     "name": "stdout",
     "output_type": "stream",
     "text": [
      "['Laburnum', 'brightly', 'possesse', 'involvin', 'unnecess', 'provoked', 'knitting', 'placidly', 'desirous', 'preventi', 'listenin', 'surveyin', 'stretche', 'unlooked', 'violence', 'thinking']\n"
     ]
    }
   ],
   "source": [
    "text = \"\"\"\n",
    "Without, the night was cold and wet, but in the small parlour of Laburnum villa the blinds were drawn and \n",
    "the fire burned brightly. Father and son were at chess; the former, who possessed ideas about the game \n",
    "involving radical chances, putting his king into such sharp and unnecessary perils that it even provoked \n",
    "comment from the white-haired old lady knitting placidly by the fire. \"Hark at the wind,\" said Mr. White, \n",
    "\"who, having seen a fatal mistake after it was too late, was amiably desirous of preventing his son from seeing it. \n",
    "I'm listening,\" said the latter grimly surveying the board as he stretched out his hand. \"Check.\n",
    "\" I should hardly think that he's come tonight,\" said his father, with his hand poised over the board. \n",
    "\"Mate,\" replied the son. \"That's the worst of living so far out,\" balled Mr. White with sudden and unlooked-for violence; \n",
    "\"Of all the beastly, slushy, out of the way places to live in, this is the worst. Path's a bog, and the road's a torrent. \n",
    "I don't know what people are thinking about. I suppose because only two houses in the road are let, \n",
    "they think it doesn't matter.\"\n",
    "\"\"\"\n",
    "\n",
    "def get_id(text):\n",
    "    pattern = '[a-zA-Z]{8}'\n",
    "    return re.findall(pattern, text)\n",
    "\n",
    "print(get_id(text))"
   ]
  },
  {
   "cell_type": "markdown",
   "id": "modified-worker",
   "metadata": {},
   "source": [
    "# Question 3:\n",
    "Write a program that list according to email addresses without email domains in a text.\n",
    "\n",
    "Example:\n",
    "\n",
    "Input:\n",
    "\n",
    "The advencements in biomarine studies franky@google.com with the investments necessary and Davos sinatra123@yahoo.com. Then New Yorker article on wind farms...\n",
    "\n",
    "Output :\n",
    "\n",
    "franky\n",
    "\n",
    "sinatra123"
   ]
  },
  {
   "cell_type": "code",
   "execution_count": 19,
   "id": "surprised-bottom",
   "metadata": {},
   "outputs": [
    {
     "name": "stdout",
     "output_type": "stream",
     "text": [
      "franky\n",
      "sinatra123\n"
     ]
    }
   ],
   "source": [
    "text = \"\"\"\"The advencements in biomarine studies franky@google.com with the investments necessary \n",
    "            and Davos sinatra123@yahoo.com. Then New Yorker article on wind farms...\"\"\"\n",
    "\n",
    "def get_id(text):\n",
    "    pattern = '(\\w+)@'\n",
    "    return re.findall(pattern, text)\n",
    "\n",
    "print(*get_id(text),sep='\\n')"
   ]
  }
 ],
 "metadata": {
  "kernelspec": {
   "display_name": "Python 3",
   "language": "python",
   "name": "python3"
  },
  "language_info": {
   "codemirror_mode": {
    "name": "ipython",
    "version": 3
   },
   "file_extension": ".py",
   "mimetype": "text/x-python",
   "name": "python",
   "nbconvert_exporter": "python",
   "pygments_lexer": "ipython3",
   "version": "3.8.5"
  }
 },
 "nbformat": 4,
 "nbformat_minor": 5
}
