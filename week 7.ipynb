{
 "cells": [
  {
   "cell_type": "code",
   "execution_count": null,
   "metadata": {},
   "outputs": [],
   "source": []
  },
  {
   "cell_type": "code",
   "execution_count": null,
   "metadata": {},
   "outputs": [
    {
     "name": "stdout",
     "output_type": "stream",
     "text": [
      "['MK4FM53B6']\n",
      "[]\n"
     ]
    }
   ],
   "source": [
    "##question1-Write a program that detects the ID number hidden in a text. We know that the format of the ID number is 2 letters, 1 digit, 2 letters, 2 digits, 1 letter, 1 digit (For example: AA4ZA11B1).\n",
    "\n",
    "##nput : AABZA1111AEGTV5YH678MK4FM53B6\n",
    "\n",
    "##Output : MK4FM53B6\n",
    "\n",
    "##Input : AEGTV5VZ4PF94B6YH678\n",
    "\n",
    "##Output : VZ4PF94B6\n",
    "\n",
    "\n",
    "\n",
    "\n",
    "import re\n",
    "\n",
    "string ='AABZA1111AEGTV5YH678MK4FM53B6'\n",
    "pattern=\"\\w\\w\\d\\w\\w\\d\\d\\w\\d\"\n",
    "sonuc=re.findall(pattern,string)\n",
    "\n",
    "print(sonuc)\n",
    "\n",
    "\n",
    "##Question2=Find words that are 8 letter long on this text ;\n",
    "\n",
    "#Without, the night was cold and wet, but in the small parlour of Laburnum villa the blinds were drawn and \n",
    "#the fire burned brightly. Father and son were at chess; the former, \n",
    "#who possessed ideas about the game involving radical chances,\n",
    "#putting his king into such sharp and unnecessary perils \n",
    "#that it even provoked comment from the white-haired old lady knitting placidly by the fire.\n",
    "#\"Hark at the wind,\" said Mr. White, \"who, having seen a fatal mistake after it was too late,\n",
    "#was amiably desirous of preventing his son from seeing it. \n",
    "#I'm listening,\" said the latter grimly surveying the board as he stretched out his hand. \"Check.\" \n",
    "#I should hardly think that he's come tonight,\" said his father, with his hand poised over the board. \n",
    "#\"Mate,\" replied the son. \"That's the worst of living so far out,\" balled Mr. White with sudden and\n",
    "#unlooked-for violence; \"Of all the beastly, slushy, out of the way places to live in, this is the worst.\n",
    "#Path's a bog, and the road's a torrent. I don't know what people are thinking about.\n",
    "#I suppose because only two houses in the road are let, they think it doesn't matter.\"\n",
    "\n",
    "import re\n",
    "\n",
    "cumle='I should hardly think that he is come tonight said his father, with his hand poised over the board.'\n",
    "\n",
    "pattern = \"[\\W|\\s]\\w{8}[\\s|\\W]\"\n",
    "\n",
    "sonuc = re.findall(pattern, cumle)\n",
    "print(sonuc)\n",
    "\n",
    "\n",
    "\n",
    "#Write a program that list according to email addresses without email domains in a text.\n",
    "\n",
    "#Example:\n",
    "\n",
    "#Input:\n",
    "\n",
    "#The advencements in biomarine studies franky@google.com with the investments necessary and Davos sinatra123@yahoo.com. Then New Yorker article on wind farms...\n",
    "\n",
    "#Output :\n",
    "\n",
    "#franky\n",
    "\n",
    "#sinatra123\n",
    "text=input(\"lutfen bir text girin:\")\n",
    "\n",
    "pattern='([\\w\\d]+)@[\\w\\d]+'\n",
    "\n",
    "sonuc=re.findall(pattern,text)\n",
    "\n",
    "\n",
    "for i in re.findall(pattern, cumle):\n",
    "    print(i)\n",
    "\n",
    "    \n",
    "    \n",
    "    \n",
    "    \n",
    "    \n",
    "\n",
    "    "
   ]
  },
  {
   "cell_type": "code",
   "execution_count": null,
   "metadata": {},
   "outputs": [],
   "source": []
  }
 ],
 "metadata": {
  "kernelspec": {
   "display_name": "Python 3",
   "language": "python",
   "name": "python3"
  },
  "language_info": {
   "codemirror_mode": {
    "name": "ipython",
    "version": 3
   },
   "file_extension": ".py",
   "mimetype": "text/x-python",
   "name": "python",
   "nbconvert_exporter": "python",
   "pygments_lexer": "ipython3",
   "version": "3.8.5"
  }
 },
 "nbformat": 4,
 "nbformat_minor": 4
}
